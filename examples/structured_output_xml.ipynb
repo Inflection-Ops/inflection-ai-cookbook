{
 "cells": [
  {
   "cell_type": "code",
   "execution_count": 1,
   "metadata": {},
   "outputs": [],
   "source": [
    "from datetime import datetime\n",
    "\n",
    "from utils import get_context, get_response"
   ]
  },
  {
   "cell_type": "markdown",
   "metadata": {},
   "source": [
    "# **Structured Output Generation using XML Formatting**\n",
    "\n",
    "This notebook demonstrates how to generate **structured output** in **XML format** for downstream processing and automation workflows. It ensures that generated responses are **machine-readable, structured, and consistent**, improving **interoperability** with external systems.\n",
    "\n",
    "## **Overview**\n",
    "\n",
    "- Implements **structured response generation** using **XML format**.\n",
    "- Enhances **data organization and automation** by ensuring consistent output formatting.\n",
    "- The notebook workflow includes:\n",
    "  - Extracting **key information** from user input.\n",
    "  - Structuring the extracted data into a **well-defined XML format**.\n",
    "  - Ensuring **validity** and **consistency** of XML output for seamless integration.\n",
    "- Provides an **example-driven approach** to XML generation, demonstrating step-by-step output formatting.\n",
    "\n",
    "The structured approach enables better **data exchange**, **automation**, and **interoperability** in service-oriented architectures.\n"
   ]
  },
  {
   "cell_type": "code",
   "execution_count": 2,
   "metadata": {},
   "outputs": [],
   "source": [
    "system_instruction_prompt = \"\"\"\n",
    "    You are a helpful AI assistant designed to assist users in scheduling meetings.\n",
    "\n",
    "    # Your Purpose\n",
    "    1. You will be given a request from a user to schedule a meeting.\n",
    "    2. Your job is to extract the parts of the request that are relevant to scheduling the meeting.\n",
    "    3. Use Local Date: as a reference only when a specific date is not provided in the user's request.\n",
    "\n",
    "    # Valid Parts\n",
    "    - Time Duration: The duration of the meeting in minutes.\n",
    "    - Date: The date of the meeting.\n",
    "    - Participants: List of participants of the meeting.\n",
    "    - Meeting Topic: The main topic or subject of the meeting.\n",
    "    - Additional Details: Any additional context or details mentioned.\n",
    "\n",
    "    # Example Input\n",
    "    Schedule 30 minutes on Friday with Masha and Matt to talk about Product.\n",
    "    Schedule half an hour on Friday with Masha and Matt to talk about Product.\n",
    "\n",
    "    # Example Output\n",
    "    <time_duration>30</time_duration>\n",
    "    <date>2024-08-09</date>\n",
    "    <participants> [Masha, Matt] </participants>\n",
    "    <meeting_topic>Product</meeting_topic>\n",
    "    <additional_details>talk about Product</additional_details>\n",
    "\n",
    "    # Notes on the date:\n",
    "    - The date should be in the format \"YYYY-MM-DD\".\n",
    "    - If a specific date is provided in the user's request (e.g., \"09/13/2024\"), use that date and convert it to the YYYY-MM-DD format.\n",
    "    - If the date is not provided, return today's date.\n",
    "    - If the date just says \"Friday,\" calculate this week's Friday from the current date.\n",
    "    - If the date says \"next Friday,\" calculate next week's Friday from the current date.\n",
    "    - Ensure that the calculated date is in the future. If \"Friday\" refers to a day in the past based on the current date, assume it refers to the next occurrence of that day.\n",
    "    - Always return a future date for relative terms like \"Friday\" or \"next Friday.\"\n",
    "\n",
    "    # Notes on time duration:\n",
    "    - The time duration should be in minutes.\n",
    "    - The user might say \"30 minutes\" or \"half an hour,\" which should be converted to minutes.\n",
    "    - The user might say \"1 hour,\" which should be converted to 60 minutes.\n",
    "    - If a specific time range is provided (e.g., \"10:00am-10:30am\"), calculate the duration in minutes.\n",
    "    - If the time duration is not provided, assume it is 30 minutes.\n",
    "\n",
    "    # Output Format - XML\n",
    "    You will respond using XML tags for each extracted piece of information. You don't need to provide explanation or any other information, just return the extracted parts within the appropriate XML tags.\n",
    "\n",
    "    # Format of the Output\n",
    "    <time_duration>extracted_time_duration</time_duration>\n",
    "    <date>extracted_date</date>\n",
    "    <participants>[participant1, participant2]</participants>\n",
    "    <meeting_topic>extracted_meeting_topic</meeting_topic>\n",
    "    <additional_details>extracted_additional_details</additional_details>\n",
    "\"\"\""
   ]
  },
  {
   "cell_type": "markdown",
   "metadata": {},
   "source": [
    "## Test Scenario: Basic Meeting Extraction"
   ]
  },
  {
   "cell_type": "code",
   "execution_count": 3,
   "metadata": {},
   "outputs": [],
   "source": [
    "class color:\n",
    "    BOLD = '\\033[1m'\n",
    "    END = '\\033[0m'"
   ]
  },
  {
   "cell_type": "code",
   "execution_count": 4,
   "metadata": {},
   "outputs": [
    {
     "name": "stdout",
     "output_type": "stream",
     "text": [
      "Starting test: test_extract_meeting_invite_parts_basic_scenario\n"
     ]
    },
    {
     "name": "stderr",
     "output_type": "stream",
     "text": [
      "INFO:inference:Inflection AI API request took 3582.82 ms\n"
     ]
    },
    {
     "name": "stdout",
     "output_type": "stream",
     "text": [
      "\u001b[1m Extracted parts: \u001b[0m {'time_duration': 30, 'date': '2024-09-13', 'participants': ['Matt'], 'meeting_topic': 'Products', 'additional_details': 'discuss Products'}\n",
      "Test completed successfully! 🙌\n"
     ]
    }
   ],
   "source": [
    "async def test_extract_meeting_invite_parts_basic_scenario():\n",
    "    \"\"\"\n",
    "    Scenario: The user provides straightforward info (a single participant,\n",
    "    direct date, direct time duration and a topic) to schedule a meeting.\n",
    "    Expected Outcome: correct information in every component.\n",
    "    \"\"\"\n",
    "    print(\"Starting test: test_extract_meeting_invite_parts_basic_scenario\")\n",
    "\n",
    "    user_message = \"Schedule a meeting with Matt on 09/13/2024 for 10:00am-10:30am to discuss Products.\"\n",
    "    today = datetime.now().strftime(\"%Y-%m-%d\")\n",
    "\n",
    "    message = f\"{user_message} Today's date: {today}\"\n",
    "    context = get_context(system_instruction_prompt, message, user_input_label=\"Schedule meeting request\")\n",
    "\n",
    "    expected_output = {\n",
    "        \"time_duration\": 30,\n",
    "        \"date\": \"2024-09-13\",\n",
    "        \"participants\": [\"Matt\"],\n",
    "        \"meeting_topic\": \"Products\",\n",
    "        \"additional_details\": \"discuss Products\",\n",
    "    }\n",
    "\n",
    "    extracted_parts = await get_response(context, [\"time_duration\", \"date\", \"participants\", \"meeting_topic\", \"additional_details\"])\n",
    "    extracted_parts['time_duration'] = int(extracted_parts['time_duration'])\n",
    "    \n",
    "    print(f\"{color.BOLD} Extracted parts: {color.END} {extracted_parts}\")\n",
    "\n",
    "    assert (\n",
    "        expected_output == extracted_parts\n",
    "    ), f\"Extracted parts do not match the expected output. Expected: {expected_output}, Got: {extracted_parts}\"\n",
    "\n",
    "    print(\"Test completed successfully! 🙌\")\n",
    "\n",
    "# Run the test\n",
    "await test_extract_meeting_invite_parts_basic_scenario()"
   ]
  }
 ],
 "metadata": {
  "kernelspec": {
   "display_name": "cookbook",
   "language": "python",
   "name": "cookbook"
  },
  "language_info": {
   "codemirror_mode": {
    "name": "ipython",
    "version": 3
   },
   "file_extension": ".py",
   "mimetype": "text/x-python",
   "name": "python",
   "nbconvert_exporter": "python",
   "pygments_lexer": "ipython3",
   "version": "3.13.0"
  }
 },
 "nbformat": 4,
 "nbformat_minor": 4
}
