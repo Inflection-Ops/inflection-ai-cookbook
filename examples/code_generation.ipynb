{
 "cells": [
  {
   "cell_type": "code",
   "execution_count": null,
   "metadata": {},
   "outputs": [],
   "source": [
    "from utils import get_context\n",
    "from inference import fetch as fetch_inflection"
   ]
  },
  {
   "cell_type": "markdown",
   "metadata": {},
   "source": [
    "# **Code Generation using Inflection AI for Automated Development**\n",
    "\n",
    "This notebook demonstrates how to implement **automated code generation** using the **Inflection AI API**. The goal is to generate high-quality **Python and SQL code** based on structured instructions while ensuring best practices for clarity, maintainability, and efficiency. By leveraging **structured prompting**, the system produces **well-optimized and interpretable** code that aligns with user specifications.\n",
    "\n",
    "## **Overview**\n",
    "\n",
    "- Utilizes **guided instruction prompting** to enhance code generation consistency.\n",
    "- Employs a **system instruction prompt** to set clear expectations for output quality.\n",
    "- The model performs the following tasks:\n",
    "  - Generates **Python and SQL code** based on a provided instruction set.\n",
    "  - Ensures **best coding practices** in terms of structure, readability, and maintainability.\n",
    "  - Uses the **`inflection_3_productivity` model**, optimized for structured code generation.\n",
    "\n",
    "This approach enhances **automated software development**, making code generation **efficient, reliable, and scalable**.\n"
   ]
  },
  {
   "cell_type": "code",
   "execution_count": null,
   "metadata": {},
   "outputs": [],
   "source": [
    "legacy_api = False # True if using the old API, False if using the new OpenAI Compatible API\n",
    "model = \"inflection_3_productivity\""
   ]
  },
  {
   "cell_type": "code",
   "execution_count": null,
   "metadata": {},
   "outputs": [],
   "source": [
    "system_instruction_prompt = \"\"\"\n",
    "You are an advanced code generator designed to assist in writing high-quality code. You specialize in generating code in Python and SQL.\n",
    "\n",
    "# Instructions:\n",
    "1. You will receive a set of instructions describing the desired functionality.\n",
    "2. Based on these instructions, you will generate well-structured, efficient, and readable code.\n",
    "\n",
    "# Requirements:\n",
    "- Ensure the generated code follows best practices and coding standards.\n",
    "- Optimize for clarity, maintainability, and performance.\n",
    "- Provide comments where necessary to explain complex logic.\n",
    "\n",
    "If any part of the instructions is ambiguous, assume a reasonable default or indicate any necessary clarifications.\n",
    "\"\"\""
   ]
  },
  {
   "cell_type": "markdown",
   "metadata": {},
   "source": [
    "## Test Scenario: Generate code for a system"
   ]
  },
  {
   "cell_type": "code",
   "execution_count": null,
   "metadata": {},
   "outputs": [],
   "source": [
    "async def test_write_code():\n",
    "    \"\"\"\n",
    "    Scenario: The user wants to generate code based on a set of instructions.\n",
    "    Expected Outcome: The code generator should generate code based on the instructions.\n",
    "    \"\"\"\n",
    "    print(\"Starting test: test_write_code\")\n",
    "    print(\"+*\"*20)\n",
    "\n",
    "    user_query = \"\"\"\n",
    "    Write a SQL query that selects all records from a table.\n",
    "    \"\"\"\n",
    "\n",
    "    context = get_context(system_instruction_prompt, user_query, user_input_label=\"User's instructions:\", legacy_api=legacy_api)\n",
    "    result = await fetch_inflection(context, model=model, legacy_api=legacy_api)\n",
    "    print(f\"Category: {result}\")\n",
    "    print(\"+*\"*20)\n",
    "\n",
    "    user_query = \"\"\"\n",
    "    Write a Python function to return the sum of two numbers.\n",
    "    \"\"\"\n",
    "    context = get_context(system_instruction_prompt, user_query, user_input_label=\"User's instructions:\", legacy_api=legacy_api)\n",
    "    result = await fetch_inflection(context, model=model, legacy_api=legacy_api)\n",
    "    print(f\"Category: {result}\")\n",
    "    print(\"+*\"*20)\n",
    "\n",
    "    print(\"All tests passed successfully! 🙌\")\n",
    "\n",
    "# Run the test\n",
    "await test_write_code()"
   ]
  }
 ],
 "metadata": {
  "kernelspec": {
   "display_name": ".venv",
   "language": "python",
   "name": "python3"
  },
  "language_info": {
   "codemirror_mode": {
    "name": "ipython",
    "version": 3
   },
   "file_extension": ".py",
   "mimetype": "text/x-python",
   "name": "python",
   "nbconvert_exporter": "python",
   "pygments_lexer": "ipython3",
   "version": "3.12.8"
  }
 },
 "nbformat": 4,
 "nbformat_minor": 2
}
