{
 "cells": [
  {
   "cell_type": "code",
   "execution_count": 1,
   "metadata": {},
   "outputs": [],
   "source": [
    "from utils import get_context\n",
    "from inference import fetch as fetch_inflection"
   ]
  },
  {
   "cell_type": "markdown",
   "metadata": {},
   "source": [
    "# **Code Generation using Inflection AI for Automated Development**\n",
    "\n",
    "This notebook demonstrates how to implement **automated code generation** using the **Inflection AI API**. The goal is to generate high-quality **Python and SQL code** based on structured instructions while ensuring best practices for clarity, maintainability, and efficiency. By leveraging **structured prompting**, the system produces **well-optimized and interpretable** code that aligns with user specifications.\n",
    "\n",
    "## **Overview**\n",
    "\n",
    "- Utilizes **guided instruction prompting** to enhance code generation consistency.\n",
    "- Employs a **system instruction prompt** to set clear expectations for output quality.\n",
    "- The model performs the following tasks:\n",
    "  - Generates **Python and SQL code** based on a provided instruction set.\n",
    "  - Ensures **best coding practices** in terms of structure, readability, and maintainability.\n",
    "  - Uses the **`inflection_3_productivity` model**, optimized for structured code generation.\n",
    "\n",
    "This approach enhances **automated software development**, making code generation **efficient, reliable, and scalable**.\n"
   ]
  },
  {
   "cell_type": "code",
   "execution_count": 2,
   "metadata": {},
   "outputs": [],
   "source": [
    "model = \"inflection_3_productivity\""
   ]
  },
  {
   "cell_type": "code",
   "execution_count": 3,
   "metadata": {},
   "outputs": [],
   "source": [
    "system_instruction_prompt = \"\"\"\n",
    "You are an advanced code generator designed to assist in writing high-quality code. You specialize in generating code in Python and SQL.\n",
    "\n",
    "# Instructions:\n",
    "1. You will receive a set of instructions describing the desired functionality.\n",
    "2. Based on these instructions, you will generate well-structured, efficient, and readable code.\n",
    "\n",
    "# Requirements:\n",
    "- Ensure the generated code follows best practices and coding standards.\n",
    "- Optimize for clarity, maintainability, and performance.\n",
    "- Provide comments where necessary to explain complex logic.\n",
    "\n",
    "If any part of the instructions is ambiguous, assume a reasonable default or indicate any necessary clarifications.\n",
    "\"\"\""
   ]
  },
  {
   "cell_type": "markdown",
   "metadata": {},
   "source": [
    "## Test Scenario: Generate code for a system"
   ]
  },
  {
   "cell_type": "code",
   "execution_count": 4,
   "metadata": {},
   "outputs": [
    {
     "name": "stdout",
     "output_type": "stream",
     "text": [
      "Starting test: test_write_code\n",
      "+*+*+*+*+*+*+*+*+*+*+*+*+*+*+*+*+*+*+*+*\n"
     ]
    },
    {
     "name": "stderr",
     "output_type": "stream",
     "text": [
      "INFO:inference:Inflection AI API request took 18761.44 ms (Model=[inflection_3_productivity]) \n"
     ]
    },
    {
     "name": "stdout",
     "output_type": "stream",
     "text": [
      "Category: Here's a basic SQL query to select all records from a table:\n",
      "\n",
      "```sql\n",
      "SELECT *\n",
      "FROM table_name;\n",
      "```\n",
      "\n",
      "Replace `table_name` with the name of the table you want to retrieve records from.\n",
      "\n",
      "For instance, if the table name is \"users\", the query would be:\n",
      "\n",
      "```sql\n",
      "SELECT *\n",
      "FROM users;\n",
      "```\n",
      "\n",
      "This query selects all columns (`*`) and rows from the specified table. It doesn't impose any filters, so it returns all records in the table.\n",
      "+*+*+*+*+*+*+*+*+*+*+*+*+*+*+*+*+*+*+*+*\n"
     ]
    },
    {
     "name": "stderr",
     "output_type": "stream",
     "text": [
      "INFO:inference:Inflection AI API request took 9758.06 ms (Model=[inflection_3_productivity]) \n"
     ]
    },
    {
     "name": "stdout",
     "output_type": "stream",
     "text": [
      "Category: To accomplish this task, you can define a Python function that takes two numbers as input arguments and returns their sum:\n",
      "\n",
      "```python\n",
      "# The following function takes two numbers as input\n",
      "# and returns their sum.\n",
      "def sum_two_numbers(num1, num2):\n",
      "    # Check if both inputs are numbers\n",
      "    if isinstance(num1, (int, float)) and isinstance(num2, (int, float)):\n",
      "        return num1 + num2\n",
      "    else:\n",
      "        raise TypeError(\"Both arguments must be numbers.\")\n",
      "```\n",
      "\n",
      "Now, you can use this function to calculate the sum of two numbers:\n",
      "\n",
      "```python\n",
      "# Example usage:\n",
      "print(sum_two_numbers(2, 3))  # Output: 5\n",
      "print(sum_two_numbers(3.5, 1.5))  # Output: 5.0\n",
      "```\n",
      "\n",
      "This function follows Python best practices, uses proper type checking, and is efficient in calculating the sum of two numbers.\n",
      "+*+*+*+*+*+*+*+*+*+*+*+*+*+*+*+*+*+*+*+*\n",
      "All tests passed successfully! 🙌\n"
     ]
    }
   ],
   "source": [
    "async def test_write_code():\n",
    "    \"\"\"\n",
    "    Scenario: The user wants to generate code based on a set of instructions.\n",
    "    Expected Outcome: The code generator should generate code based on the instructions.\n",
    "    \"\"\"\n",
    "    print(\"Starting test: test_write_code\")\n",
    "    print(\"+*\"*20)\n",
    "\n",
    "    user_query = \"\"\"\n",
    "    Write a SQL query that selects all records from a table.\n",
    "    \"\"\"\n",
    "\n",
    "    context = get_context(system_instruction_prompt, user_query, user_input_label=\"User's instructions:\")\n",
    "    result = await fetch_inflection(context, model=model)\n",
    "    print(f\"Category: {result}\")\n",
    "    print(\"+*\"*20)\n",
    "\n",
    "    user_query = \"\"\"\n",
    "    Write a Python function to return the sum of two numbers.\n",
    "    \"\"\"\n",
    "    context = get_context(system_instruction_prompt, user_query, user_input_label=\"User's instructions:\")\n",
    "    result = await fetch_inflection(context, model=model)\n",
    "    print(f\"Category: {result}\")\n",
    "    print(\"+*\"*20)\n",
    "\n",
    "    print(\"All tests passed successfully! 🙌\")\n",
    "\n",
    "# Run the test\n",
    "await test_write_code()"
   ]
  }
 ],
 "metadata": {
  "kernelspec": {
   "display_name": "Python 3",
   "language": "python",
   "name": "python3"
  },
  "language_info": {
   "codemirror_mode": {
    "name": "ipython",
    "version": 3
   },
   "file_extension": ".py",
   "mimetype": "text/x-python",
   "name": "python",
   "nbconvert_exporter": "python",
   "pygments_lexer": "ipython3",
   "version": "3.12.8"
  }
 },
 "nbformat": 4,
 "nbformat_minor": 2
}
