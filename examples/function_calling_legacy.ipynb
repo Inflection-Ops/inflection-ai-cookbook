{
 "cells": [
  {
   "cell_type": "code",
   "execution_count": 5,
   "metadata": {},
   "outputs": [],
   "source": [
    "import requests\n",
    "from utils import get_context, get_response\n",
    "from inference import fetch as fetch_inflection"
   ]
  },
  {
   "cell_type": "markdown",
   "metadata": {},
   "source": [
    "# **Function Calling with Structured API Queries**\n",
    "\n",
    "This notebook demonstrates how to implement **function calling** for structured API queries. The goal is to efficiently retrieve relevant information based on specific user inputs by utilizing structured function calls. This approach enhances **accuracy**, improves **response efficiency**, and enables seamless **integration** with various API-based workflows.\n",
    "\n",
    "## **Overview**\n",
    "\n",
    "This notebook focuses on structured function execution to enhance automation and data retrieval. It provides a systematic approach to invoking API functions with well-defined parameters.\n",
    "\n",
    "## **Key Functionalities**\n",
    "\n",
    "This notebook implements the following function:\n",
    "\n",
    "- `get_weather(latitude: str, longitude: str) -> dict:`  \n",
    "  - Fetches weather data based on geographic coordinates.\n",
    "\n",
    "The structured approach ensures that API calls are **consistent, interpretable, and easily adaptable** for various use cases.\n"
   ]
  },
  {
   "cell_type": "code",
   "execution_count": 14,
   "metadata": {},
   "outputs": [],
   "source": [
    "def get_weather(latitude: str, longitude: str) -> dict:\n",
    "    \"\"\"\n",
    "    Get the weather information for the given latitude and longitude.\n",
    "    \"\"\"\n",
    "    # Fetch the weather data in Celsius\n",
    "    response_celsius = requests.get(f\"https://api.open-meteo.com/v1/forecast?latitude={latitude}&longitude={longitude}&current=temperature_2m,wind_speed_10m&hourly=temperature_2m,relative_humidity_2m,wind_speed_10m&temperature_unit=celsius\")\n",
    "    data_celsius = response_celsius.json()\n",
    "    temperature_celsius = data_celsius['current']['temperature_2m']\n",
    "    \n",
    "    # Fetch the weather data in Fahrenheit\n",
    "    response_fahrenheit = requests.get(f\"https://api.open-meteo.com/v1/forecast?latitude={latitude}&longitude={longitude}&current=temperature_2m,wind_speed_10m&hourly=temperature_2m,relative_humidity_2m,wind_speed_10m&temperature_unit=fahrenheit\")\n",
    "    data_fahrenheit = response_fahrenheit.json()\n",
    "    temperature_fahrenheit = data_fahrenheit['current']['temperature_2m']\n",
    "    \n",
    "    # Return both temperatures\n",
    "    return {\n",
    "        'temperature_celsius': temperature_celsius,\n",
    "        'temperature_fahrenheit': temperature_fahrenheit\n",
    "    }"
   ]
  },
  {
   "cell_type": "code",
   "execution_count": 3,
   "metadata": {},
   "outputs": [],
   "source": [
    "system_instruction_prompt_intent = \"\"\"\n",
    "You are a helpful AI assistant designed to determine the intent of a user's query.\n",
    "\n",
    "# Your Purpose\n",
    "1. Identify the intent behind the user's message.\n",
    "2. Do not attempt to answer or solve the user's query.\n",
    "3. Only classify the query into one of the valid intents listed below.\n",
    "4. Do not invent new intents—select only from the predefined list.\n",
    "5. Always review the valid intents before making a selection.\n",
    "\n",
    "# Valid Intents\n",
    "- weather: The user is asking about the weather.\n",
    "- other: The user's query does not pertain to the weather.\n",
    "\n",
    "# Output Format - XML\n",
    "You will respond using XML tags for each extracted piece of information. You don't need to provide explanation or any other information, just return the extracted parts within the appropriate XML tags.\n",
    "\n",
    "# Format of the Output\n",
    "<parts>\n",
    "    <reasoning>The reasoning behind selecting this intent</reasoning>\n",
    "    <intent_recognized>intent_selected</intent_recognized>\n",
    "</parts>\n",
    "\"\"\"\n",
    "\n",
    "system_instruction_prompt_lat_long = \"\"\"\n",
    "You are a helpful AI assistant designed to extract the latitude and longitude of a location mentioned in the user's query.\n",
    "\n",
    "# Your Purpose\n",
    "1. Identify and return the latitude and longitude of the location specified by the user.\n",
    "2. Provide only numerical values for latitude and longitude no degree symbols (°) or directional indicators (N, S, E, W).\n",
    "3. Do NOT attempt to answer or interpret the user's query beyond extracting coordinates.\n",
    "\n",
    "# Output Format - XML\n",
    "You will respond using XML tags for each extracted piece of information. You don't need to provide explanation or any other information, just return the extracted parts within the appropriate XML tags.\n",
    "\n",
    "# Format of the Output\n",
    "<parts>\n",
    "    <latitude>Extracted latitude</latitude>\n",
    "    <longitude>Extracted longitude</longitude>\n",
    "</parts>\n",
    "\"\"\"\n",
    "\n",
    "system_instruction_prompt_weather = \"\"\"\n",
    "You are a helpful AI assistant designed to generate friendly weather responses based on provided weather data and the user's original message.\n",
    "\n",
    "# Your Purpose\n",
    "1. Construct a response using the provided weather information: (temperature in Celsius and Fahrenheit) and the user's original message.\n",
    "2. Make the response engaging and friendly, using appropriate emojis.\n",
    "3. Do NOT add any extra information, only reformat the given weather data and message into a natural response.\n",
    "4. Ensure clarity, warmth, and helpfulness in your wording.\n",
    "\n",
    "# Additional Instructions\n",
    "1. DO NOT provide any details beyond the given weather data and original message.\n",
    "2. DO NOT attempt to answer or interpret the user's query beyond constructing the weather response.\n",
    "\n",
    "Example Input: \n",
    "Original Message: What is the weather in NYC?\n",
    "Current temperature: 1°C (33.2°F)\n",
    "\n",
    "Example Output: The current temperature in NYC is 1°C (33.2°F). Stay warm!\n",
    "\"\"\"\n",
    "\n",
    "system_instruction_prompt_general = \"\"\"\n",
    "You are a helpful AI assistant designed to assist users with their queries in a polite and informative manner.\n",
    "\n",
    "# Your Purpose\n",
    "1. Provide helpful, accurate, and well-structured responses to user questions.\n",
    "2. Maintain a polite, friendly, and professional tone in all interactions.\n",
    "3. Answer questions to the best of your ability, ensuring clarity and relevance.\n",
    "4. Be concise yet informative, avoid unnecessary details or overly complex explanations.\n",
    "5. Maintain a friendly and approachable tone to enhance user experience.\n",
    "6. Adapt your response style based on the user's query to ensure clarity and helpfulness.\n",
    "\"\"\""
   ]
  },
  {
   "cell_type": "code",
   "execution_count": 6,
   "metadata": {},
   "outputs": [
    {
     "name": "stdout",
     "output_type": "stream",
     "text": [
      "{'temperature_celsius': -0.9, 'temperature_fahrenheit': 30.3}\n"
     ]
    }
   ],
   "source": [
    "result = get_weather(\"40.7128\", \"-74.0060\")\n",
    "print(result)"
   ]
  },
  {
   "cell_type": "code",
   "execution_count": 10,
   "metadata": {},
   "outputs": [],
   "source": [
    "async def handle_query(query: str) -> str:\n",
    "    \n",
    "    # Extract the intent\n",
    "    context = get_context(system_instruction_prompt_intent, query)\n",
    "    result = await get_response(context, [\"reasoning\", \"intent_recognized\"])\n",
    "    intent = result[\"intent_recognized\"]\n",
    "\n",
    "    match intent:\n",
    "        case \"weather\":\n",
    "            context_2 = get_context(system_instruction_prompt_lat_long, query)\n",
    "            result = await get_response(context_2, [\"latitude\", \"longitude\"])\n",
    "            lat = result[\"latitude\"]\n",
    "            long = result[\"longitude\"]\n",
    "            weather = get_weather(lat, long)\n",
    "            message = f\"\"\" \n",
    "            Original Message: {query}\n",
    "            Current temperature: {weather['temperature_celsius']}°C ({weather['temperature_fahrenheit']}°F)\"\"\"\n",
    "            context_3 = get_context(system_instruction_prompt_weather, message)\n",
    "            return await fetch_inflection(context_3)\n",
    "        case \"other\":\n",
    "            context_2 = get_context(system_instruction_prompt_general, query)\n",
    "            return await fetch_inflection(context_2)\n"
   ]
  },
  {
   "cell_type": "code",
   "execution_count": 12,
   "metadata": {},
   "outputs": [],
   "source": [
    "class color:\n",
    "    BOLD = '\\033[1m'\n",
    "    END = '\\033[0m'"
   ]
  },
  {
   "cell_type": "code",
   "execution_count": null,
   "metadata": {},
   "outputs": [
    {
     "name": "stdout",
     "output_type": "stream",
     "text": [
      "Starting test: test_function_calling\n",
      "+*+*+*+*+*+*+*+*+*+*+*+*+*+*+*+*+*+*+*+*\n"
     ]
    },
    {
     "name": "stderr",
     "output_type": "stream",
     "text": [
      "INFO:inference:Inflection AI API request took 4393.23 ms\n",
      "INFO:inference:Inflection AI API request took 2995.01 ms\n",
      "INFO:inference:Inflection AI API request took 5342.30 ms\n"
     ]
    },
    {
     "name": "stdout",
     "output_type": "stream",
     "text": [
      "\u001b[1m Query: \u001b[0m  What is the weather in Hawaii?\n",
      "\u001b[1m Response: \u001b[0m  🌺🌴 Aloha! The current temperature in Hawaii is 23.2°C (73.8°F). Sounds like a beautiful day for some fun in the sun. 🌞🌴\n",
      "+*+*+*+*+*+*+*+*+*+*+*+*+*+*+*+*+*+*+*+*\n"
     ]
    },
    {
     "name": "stderr",
     "output_type": "stream",
     "text": [
      "INFO:inference:Inflection AI API request took 3040.26 ms\n",
      "INFO:inference:Inflection AI API request took 3239.71 ms\n"
     ]
    },
    {
     "name": "stdout",
     "output_type": "stream",
     "text": [
      "\u001b[1m Query: \u001b[0m What's your favorite flower?\n",
      "\u001b[1m Response: \u001b[0m While I don’t have personal preferences as an AI, I think roses are a classic choice! Their timeless beauty and variety of colors make them a favorite for many. Do you have a favorite flower, or are you looking for suggestions? 🌹\n",
      "+*+*+*+*+*+*+*+*+*+*+*+*+*+*+*+*+*+*+*+*\n",
      "Test completed successfully! 🙌\n"
     ]
    }
   ],
   "source": [
    "async def test_function_calling():\n",
    "    print(\"Starting test: test_function_calling\")\n",
    "    print(\"+*\"*20)\n",
    "    \n",
    "    user_message = \"What is the weather in Hawaii?\"\n",
    "    response = await handle_query(user_message)\n",
    "\n",
    "    print(f\"{color.BOLD} Query: {color.END} {user_message}\")\n",
    "    print(f\"{color.BOLD} Response: {color.END} {response}\")\n",
    "    print(\"+*\"*20)\n",
    "\n",
    "    user_message = \"What's your favorite flower?\"\n",
    "    response = await handle_query(user_message)\n",
    "\n",
    "    print(f\"{color.BOLD} Query: {color.END} {user_message}\")\n",
    "    print(f\"{color.BOLD} Response: {color.END} {response}\")\n",
    "    print(\"+*\"*20)\n",
    "\n",
    "    print(\"Test completed successfully! 🙌\")\n",
    "\n",
    "# Run the test\n",
    "await test_function_calling()"
   ]
  }
 ],
 "metadata": {
  "kernelspec": {
   "display_name": "cookbook",
   "language": "python",
   "name": "cookbook"
  },
  "language_info": {
   "codemirror_mode": {
    "name": "ipython",
    "version": 3
   },
   "file_extension": ".py",
   "mimetype": "text/x-python",
   "name": "python",
   "nbconvert_exporter": "python",
   "pygments_lexer": "ipython3",
   "version": "3.13.0"
  }
 },
 "nbformat": 4,
 "nbformat_minor": 2
}
