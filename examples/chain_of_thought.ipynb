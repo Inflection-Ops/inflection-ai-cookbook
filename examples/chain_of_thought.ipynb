{
 "cells": [
  {
   "cell_type": "code",
   "execution_count": 12,
   "metadata": {},
   "outputs": [],
   "source": [
    "from utils import get_response\n",
    "from utils import get_context\n",
    "from inference import fetch as fetch_inflection"
   ]
  },
  {
   "cell_type": "markdown",
   "metadata": {},
   "source": [
    "# **Intent Recognition for Service Routing using Chain-of-Thought Reasoning and Inflection AI API**\n",
    "\n",
    "This notebook demonstrates how to implement **intent recognition** for a **Service Router** using **Chain-of-Thought (CoT) reasoning**. The goal is to classify user intents and generate structured responses that optimize service routing. \n",
    "\n",
    "## **Overview**\n",
    "\n",
    "- Utilizes **Chain-of-Thought prompting** to enhance intent classification and decision-making.\n",
    "- Employs a **guiding instruction prompt** for consistent and structured output.\n",
    "- The model performs the following tasks:\n",
    "  - Extracts **user intent** by identifying the appropriate **service category** based on query and intent history.\n",
    "  - Provides a **reasoning trace** before making a classification.\n",
    "  - Outputs results in **XML format** for downstream automation.\n",
    "  - Utilizes the **`inflection_3_productivity` model**, optimized for task-specific classification like intent recognition.\n",
    "\n",
    "By leveraging **structured prompting and reasoning**, this approach improves **accuracy** and ensures **efficient, interpretable routing**. "
   ]
  },
  {
   "cell_type": "code",
   "execution_count": 10,
   "metadata": {},
   "outputs": [],
   "source": [
    "class color:\n",
    "    BOLD = '\\033[1m'\n",
    "    END = '\\033[0m'"
   ]
  },
  {
   "cell_type": "markdown",
   "metadata": {},
   "source": [
    "## **Example 1**\n",
    "Instruct the model to think deeply and use complex reasoning around emotions"
   ]
  },
  {
   "cell_type": "code",
   "execution_count": 13,
   "metadata": {},
   "outputs": [],
   "source": [
    "model = \"inflection_3_productivity\""
   ]
  },
  {
   "cell_type": "code",
   "execution_count": 11,
   "metadata": {},
   "outputs": [],
   "source": [
    "system_instruction_prompt = \"\"\"\n",
    "Your task Is to sell to a customer. The customer might express unclear feelings and be not motivated.\n",
    "Think deeply, step by step, wrap your thought process inside <think></think> tags to contemplate the best way to approach the task with emotional intelligence, compassion and the need to close the sale. Consider potential edge cases of customer feelings. Then provide your message to the customer.\n",
    "Selling: On-prem AI deployments for LLMs.\n",
    "\"\"\""
   ]
  },
  {
   "cell_type": "code",
   "execution_count": 15,
   "metadata": {},
   "outputs": [
    {
     "name": "stdout",
     "output_type": "stream",
     "text": [
      "Starting test: test_complex_eq_reasoning\n",
      "+*+*+*+*+*+*+*+*+*+*+*+*+*+*+*+*+*+*+*+*\n"
     ]
    },
    {
     "name": "stderr",
     "output_type": "stream",
     "text": [
      "INFO:inference:Inflection AI API request took 16992.83 ms (Model=[inflection_3_productivity]) \n"
     ]
    },
    {
     "name": "stdout",
     "output_type": "stream",
     "text": [
      "<think>\n",
      "    It seems that the customer is uncertain about their ability to handle on-prem AI deployments due to the lack of staff for datacenter deployment. To approach this, I need to address their concerns and provide alternative solutions that could help them make a decision.\n",
      "    \n",
      "    1. **Offer assistance for datacenter deployment:** We could provide resources or support to help them set up and manage the on-prem deployment.\n",
      "    \n",
      "    2. **Discuss hybrid deployment options:** We could suggest a combination of on-prem and cloud deployment to reduce the load on their on-prem infrastructure.\n",
      "    \n",
      "    3. **Offer training and guidance for their staff:** We could provide training materials or hands-on support to help their staff become more comfortable with managing on-prem deployments.\n",
      "    \n",
      "    4. **Showcase success stories:** Provide examples of other organizations that have successfully implemented on-prem AI deployments with limited staff.\n",
      "    \n",
      "    5. **Emphasize the benefits of on-prem deployments:** Such as increased security, control, and potentially lower costs in the long run.\n",
      "    \n",
      "    6. **Reassure them that their concerns are valid:** Validate their hesitation and show that we understand their situation and are willing to work with them to find a solution.\n",
      "</think>\n",
      "\n",
      "**Message to the customer:**\n",
      "\n",
      "I understand that considering an on-prem AI deployment for LLMs may be challenging, especially when you have concerns about your datacenter deployment capabilities. We want to make this transition as smooth as possible for you, so we can offer a few options to address your concerns:\n",
      "\n",
      "1. We could provide additional support and resources to assist your team in setting up and managing the on-prem deployment.\n",
      "\n",
      "2. If a full on-prem deployment seems too demanding, we can discuss hybrid deployment options, which would allow you to leverage the benefits of both on-prem and cloud solutions.\n",
      "\n",
      "3. Our team is more than happy to provide training and guidance for your staff to ensure they feel confident managing the on-prem environment.\n",
      "\n",
      "4. Several organizations similar to yours have successfully implemented on-prem AI deployments despite having limited staff. We can share some of their success stories with you for inspiration and insights.\n",
      "\n",
      "5. Keep in mind the significant benefits of on-prem AI deployments, such as increased security, control, and potentially lower costs in the long run.\n",
      "\n",
      "Please know that we are here to help you find the best solution for your organization's needs and will work closely with you to make this decision as comfortable as possible.\n"
     ]
    }
   ],
   "source": [
    "async def test_complex_eq_reasoning():\n",
    "    print(\"Starting test: test_complex_eq_reasoning\")\n",
    "    print(\"+*\"*20)\n",
    "    \n",
    "    user_query = \"\"\"\n",
    "    I don't really know if we can handle AI on-prem, we don't have staff to support datacenter deployment. It is a hard decision.\n",
    "    \"\"\"\n",
    "\n",
    "    context = get_context(system_instruction_prompt, user_query, user_input_label=\"Customer:\")\n",
    "    result = await fetch_inflection(context, model=model)\n",
    "    print(f\"{result}\")\n",
    "    \n",
    "\n",
    "# Run the test\n",
    "await test_complex_eq_reasoning()"
   ]
  },
  {
   "cell_type": "markdown",
   "metadata": {},
   "source": [
    "## **Example 2**\n",
    "The **XML output** format enables seamless integration with automation pipelines."
   ]
  },
  {
   "cell_type": "code",
   "execution_count": 16,
   "metadata": {},
   "outputs": [],
   "source": [
    "system_instruction_prompt = \"\"\"\n",
    "You are an AI assistant designed to determine the correct service intent for routing a user's query. Follow a step-by-step approach based on the sequence of prior intents and the user's current input.\n",
    "\n",
    "## Your Task:\n",
    "1. You will be provided with a sequence of previously identified service intents.\n",
    "2. You will also be provided with the user's current query.\n",
    "3. Your task is to analyze both pieces of information and determine the most appropriate next service intent.\n",
    "\n",
    "# Service Intent Definitions:\n",
    "- check_account_balance: Retrieve the user's account balance.\n",
    "- transfer_money: Transfer funds between accounts.\n",
    "- check_transaction_status: Check the status of a past transaction.\n",
    "- search_nearby_restaurants: Find nearby restaurants.\n",
    "- view_restaurant_reviews: Retrieve reviews for a restaurant.\n",
    "- book_table: Make a reservation at a restaurant.\n",
    "- search_flights: Look up available flights.\n",
    "- select_flight: Choose a flight.\n",
    "- enter_passenger_details: Provide passenger information for a flight.\n",
    "- retrieve_flight_information: Get details about a flight.\n",
    "- search_product: Find a product.\n",
    "- add_to_cart: Add a product to the shopping cart.\n",
    "- apply_discount: Apply a discount code to the cart.\n",
    "\n",
    "# Output Format (XML):\n",
    "You will respond in a valid XML format with the <parts>, <reasoning>, and <intent> tags following below output format. You don't need to provide explanation or any other information, just return reasoning and intent.\n",
    "- Reasoning: A short explanation of why this intent was chosen.\n",
    "- Intent: The determined service intent.\n",
    "\n",
    "# Format of the Output\n",
    "<parts>\n",
    "    <reasoning>The reasoning behind selecting this intent</reasoning>\n",
    "    <intent>determined_service</intent>\n",
    "</parts>\n",
    "\n",
    "\"\"\"\n",
    "\n",
    "example_previous_intents_1 = \"check_account_balance -> transfer_money\"\n",
    "example_previous_user_query_1 = \"Can you confirm if the transfer was successful?\"\n",
    "example_output_1 = \"\"\"\n",
    "    <parts>\n",
    "        <reasoning>Can you confirm if the transfer was successful?\"\n",
    "        example_reasoning_1 = \"The user has already requested to transfer funds. Now, they are asking about the status of that transfer. This query is related to checking the transaction status.</reasoning>\n",
    "        <intent>check_transaction_status</intent>\n",
    "    </parts>\n",
    "\"\"\"\n",
    "\n",
    "example_previous_intents_2 = \"search_nearby_restaurants -> view_restaurant_reviews\"\n",
    "example_previous_user_query_2 = \"Can you book a table for 7 PM?\"\n",
    "example_output_2 = \"\"\"\n",
    "    <parts>\n",
    "        <reasoning>The user started by searching for restaurants and then viewed reviews. Now, they are asking to reserve a table at one of the restaurants. This query is related to making a reservation.</reasoning>\n",
    "        <intent>book_table</intent>\n",
    "    </parts>\n",
    "\"\"\"\n",
    "\n",
    "example_previous_intents_3 = \"search_flights -> select_flight -> enter_passenger_details\"\n",
    "example_previous_user_query_3 = \"What are the baggage policies for this airline?\"\n",
    "example_output_3 = \"\"\"\n",
    "    <parts>\n",
    "        <reasoning>What are the baggage policies for this airline?\"\n",
    "        example_reasoning_3 = \"The user has already selected a flight and entered passenger details. Now, they are asking for additional information about the flight's baggage policy. This query is related to retrieving flight details.</reasoning>\n",
    "        <intent>retrieve_flight_information</intent>\n",
    "    </parts>\n",
    "\"\"\"\n",
    "\n",
    "example_previous_intents_4 = \"search_product -> add_to_cart\"\n",
    "example_previous_user_query_4 = \"Can you apply a discount code for me?\"\n",
    "example_output_4 = \"\"\"\n",
    "    <parts>\n",
    "        <reasoning>The user has added a product to their cart and now wants to apply a discount. This query is related to applying a coupon or promotion.</reasoning>\n",
    "        <intent>apply_discount</intent>\n",
    "    </parts>\n",
    "\"\"\""
   ]
  },
  {
   "cell_type": "code",
   "execution_count": 17,
   "metadata": {},
   "outputs": [],
   "source": [
    "def get_service_router_context(previous_intents: str, service_request: str) -> list:\n",
    "    \"\"\"\n",
    "    Returns the context for the service router.\n",
    "    \"\"\"\n",
    "    context = [\n",
    "            {\"type\": \"Instruction\", \"text\": system_instruction_prompt},\n",
    "\n",
    "            {\"type\": \"Human\", \"text\": example_previous_intents_1},\n",
    "            {\"type\": \"Human\", \"text\": example_previous_user_query_1},\n",
    "            {\"type\": \"AI\", \"text\": example_output_1},\n",
    "\n",
    "            {\"type\": \"Human\", \"text\": example_previous_intents_2},\n",
    "            {\"type\": \"Human\", \"text\": example_previous_user_query_2},\n",
    "            {\"type\": \"AI\", \"text\": example_output_2},\n",
    "\n",
    "            {\"type\": \"Human\", \"text\": example_previous_intents_3},\n",
    "            {\"type\": \"Human\", \"text\": example_previous_user_query_3},\n",
    "            {\"type\": \"AI\", \"text\": example_output_3},\n",
    "\n",
    "            {\"type\": \"Human\", \"text\": example_previous_intents_4},\n",
    "            {\"type\": \"Human\", \"text\": example_previous_user_query_4},\n",
    "            {\"type\": \"AI\", \"text\": example_output_4},\n",
    "            {\n",
    "                \"type\": \"Human\",\n",
    "                \"text\": f\"Query: {previous_intents}\",\n",
    "            },\n",
    "            {\n",
    "                \"type\": \"Human\",\n",
    "                \"text\": f\"Query: {service_request}\",\n",
    "            },\n",
    "        ]\n",
    "    return context"
   ]
  },
  {
   "cell_type": "markdown",
   "metadata": {},
   "source": [
    "## Test Scenario: Intent Recognition for Service Router"
   ]
  },
  {
   "cell_type": "code",
   "execution_count": 18,
   "metadata": {},
   "outputs": [
    {
     "name": "stdout",
     "output_type": "stream",
     "text": [
      "Starting test: test_service_router\n",
      "+*+*+*+*+*+*+*+*+*+*+*+*+*+*+*+*+*+*+*+*\n"
     ]
    },
    {
     "name": "stderr",
     "output_type": "stream",
     "text": [
      "INFO:inference:Inflection AI API request took 4927.92 ms (Model=[inflection_3_productivity]) \n"
     ]
    },
    {
     "name": "stdout",
     "output_type": "stream",
     "text": [
      "\u001b[1m Intent recognized: \u001b[0m view_restaurant_reviews\n",
      "\u001b[1m Reasoning: \u001b[0m The user first searched for nearby restaurants and now wants to see reviews of those restaurants. This query is related to retrieving restaurant reviews.\n",
      "+*+*+*+*+*+*+*+*+*+*+*+*+*+*+*+*+*+*+*+*\n"
     ]
    },
    {
     "name": "stderr",
     "output_type": "stream",
     "text": [
      "INFO:inference:Inflection AI API request took 8004.51 ms (Model=[inflection_3_productivity]) \n"
     ]
    },
    {
     "name": "stdout",
     "output_type": "stream",
     "text": [
      "\u001b[1m Intent recognized:\u001b[0m enter_passenger_details\n",
      "\u001b[1m Reasoning: \u001b[0m The user has searched for flights and selected one. They have chosen to use saved information to complete the details. This implies that they are entering passenger information for the flight.\n",
      "+*+*+*+*+*+*+*+*+*+*+*+*+*+*+*+*+*+*+*+*\n"
     ]
    },
    {
     "name": "stderr",
     "output_type": "stream",
     "text": [
      "INFO:inference:Inflection AI API request took 10087.99 ms (Model=[inflection_3_productivity]) \n"
     ]
    },
    {
     "name": "stdout",
     "output_type": "stream",
     "text": [
      "\u001b[1m Intent recognized: \u001b[0m apply_discount\n",
      "\u001b[1m Reasoning: \u001b[0m The user has provided a discount code and wants to apply it to their current order. This query is directly related to the application of a discount code to the cart.\n",
      "+*+*+*+*+*+*+*+*+*+*+*+*+*+*+*+*+*+*+*+*\n",
      "All tests passed successfully! 🙌\n"
     ]
    }
   ],
   "source": [
    "async def test_service_router():\n",
    "    print(\"Starting test: test_service_router\")\n",
    "    print(\"+*\"*20)\n",
    "    previous_intents = \"search_nearby_restaurants\"\n",
    "    service_request = \"Please show me the reviews.\"\n",
    "    context = get_service_router_context(previous_intents, service_request)\n",
    "    result = await get_response(context, [\"reasoning\", \"intent\"])\n",
    "\n",
    "    assert result[\"intent\"] == \"view_restaurant_reviews\"\n",
    "    print(f\"{color.BOLD} Intent recognized: {color.END} {result[\"intent\"]}\")\n",
    "    print(f\"{color.BOLD} Reasoning: {color.END} {result[\"reasoning\"]}\")\n",
    "    print(\"+*\"*20)\n",
    "\n",
    "    previous_intents = \"search_flights -> select_flight\"\n",
    "    service_request = \"Used auto saved information to fill out the details.\"\n",
    "    context = get_service_router_context(previous_intents, service_request)\n",
    "    result = await get_response(context, [\"reasoning\", \"intent\"])\n",
    "\n",
    "    assert result[\"intent\"] == \"enter_passenger_details\"\n",
    "    print(f\"{color.BOLD} Intent recognized:{color.END} {result[\"intent\"]}\")\n",
    "    print(f\"{color.BOLD} Reasoning: {color.END} {result[\"reasoning\"]}\")\n",
    "    print(\"+*\"*20)\n",
    "\n",
    "    previous_intents = \"search_product -> add_to_cart\"\n",
    "    service_request = \"I have a discount code ABCD1234. Please apply to this order.\"\n",
    "    context = get_service_router_context(previous_intents, service_request)\n",
    "    result = await get_response(context, [\"reasoning\", \"intent\"])\n",
    "\n",
    "    assert result[\"intent\"] == \"apply_discount\"\n",
    "    print(f\"{color.BOLD} Intent recognized: {color.END} {result[\"intent\"]}\")\n",
    "    print(f\"{color.BOLD} Reasoning: {color.END} {result[\"reasoning\"]}\")\n",
    "    print(\"+*\"*20)\n",
    "\n",
    "    print(\"All tests passed successfully! 🙌\")\n",
    "\n",
    "# Run the test\n",
    "await test_service_router()"
   ]
  }
 ],
 "metadata": {
  "kernelspec": {
   "display_name": "Python 3",
   "language": "python",
   "name": "python3"
  },
  "language_info": {
   "codemirror_mode": {
    "name": "ipython",
    "version": 3
   },
   "file_extension": ".py",
   "mimetype": "text/x-python",
   "name": "python",
   "nbconvert_exporter": "python",
   "pygments_lexer": "ipython3",
   "version": "3.12.8"
  }
 },
 "nbformat": 4,
 "nbformat_minor": 2
}
