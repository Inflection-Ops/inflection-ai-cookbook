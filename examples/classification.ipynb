{
 "cells": [
  {
   "cell_type": "code",
   "execution_count": 10,
   "metadata": {},
   "outputs": [],
   "source": [
    "from utils import get_context, get_response"
   ]
  },
  {
   "cell_type": "markdown",
   "metadata": {},
   "source": [
    "# **Document Classification using Inflection AI API**\n",
    "\n",
    "This notebook demonstrates how to implement **document classification** using the **Inflection AI API**. The goal is to categorize documents as either **\"Statement of Work\" (SOW) or \"Other\"**, ensuring structured and accurate classification. By leveraging **instruction-based prompting**, this approach improves **reliability** and ensures **consistent categorization**. The **XML output** format enables seamless integration with automation pipelines. \n",
    "\n",
    "## **Overview**\n",
    "\n",
    "- Utilizes **instruction-based prompting** to guide the classification process.\n",
    "- Employs a **structured system prompt** for consistent and interpretable output.\n",
    "- The model performs the following tasks:\n",
    "  - Analyzes **document text** to determine if it falls under the **SOW category** or **Other**.\n",
    "  - Parses **XML responses** to extract classification results for downstream processing.\n",
    "  - Utilizes the **`inflection_3_productivity` model**, optimized for task-specific classification.\n",
    "\n",
    "This approach ensures **efficient, structured, and scalable** document classification, making it ideal for automated workflows.\n"
   ]
  },
  {
   "cell_type": "code",
   "execution_count": 2,
   "metadata": {},
   "outputs": [],
   "source": [
    "system_instruction_prompt = \"\"\"\n",
    "You are an AI assistant designed to categorize documents into one of two categories: \"statement_of_work\" or \"other\".\n",
    "\n",
    "# Purpose\n",
    "1. You will be given a document in text format.\n",
    "2. Your job is to determine whether the document is a statement_of_work or falls into the Other category.\n",
    "\n",
    "# Category Definitions\n",
    "- statement_of_work: A formal document that defines the scope, deliverables, timelines, and conditions of a project or service agreement. Characteristics of statement_of_work typically include:\n",
    "    - Detailed project scope and objectives\n",
    "    - Key deliverables\n",
    "    - Milestones and deadlines\n",
    "    - Specific tasks to be completed\n",
    "    - Payment terms\n",
    "    - Responsibilities of the involved parties\n",
    "\n",
    "- other: any document that does not align with the above structure and content of a statement_of_work.\n",
    "\n",
    "# Valid Categories:\n",
    "- statement_of_work\n",
    "- other\n",
    "\n",
    "# Output Format - XML\n",
    "You will respond using XML tags for determined category. You don't need to provide explanation or any other information, just return the extracted parts within the appropriate XML tags.\n",
    "\n",
    "# Format of the Output:\n",
    "<parts>\n",
    "    <category>determined_category</category>\n",
    "</parts>\n",
    "\"\"\""
   ]
  },
  {
   "cell_type": "markdown",
   "metadata": {},
   "source": [
    "## Test Scenario: Classification of Text in Documents"
   ]
  },
  {
   "cell_type": "code",
   "execution_count": 5,
   "metadata": {},
   "outputs": [],
   "source": [
    "class color:\n",
    "    BOLD = '\\033[1m'\n",
    "    END = '\\033[0m'"
   ]
  },
  {
   "cell_type": "code",
   "execution_count": 6,
   "metadata": {},
   "outputs": [
    {
     "name": "stdout",
     "output_type": "stream",
     "text": [
      "Starting test: test_categorize_document\n",
      "+*+*+*+*+*+*+*+*+*+*+*+*+*+*+*+*+*+*+*+*\n"
     ]
    },
    {
     "name": "stderr",
     "output_type": "stream",
     "text": [
      "INFO:inference:Inflection AI API request took 2751.12 ms\n"
     ]
    },
    {
     "name": "stdout",
     "output_type": "stream",
     "text": [
      "\u001b[1m Category: \u001b[0m statement_of_work\n",
      "+*+*+*+*+*+*+*+*+*+*+*+*+*+*+*+*+*+*+*+*\n"
     ]
    },
    {
     "name": "stderr",
     "output_type": "stream",
     "text": [
      "INFO:inference:Inflection AI API request took 2330.71 ms\n"
     ]
    },
    {
     "name": "stdout",
     "output_type": "stream",
     "text": [
      "\u001b[1m Category: \u001b[0m other\n",
      "+*+*+*+*+*+*+*+*+*+*+*+*+*+*+*+*+*+*+*+*\n",
      "All tests passed successfully! 🙌\n"
     ]
    }
   ],
   "source": [
    "async def test_categorize_document():\n",
    "    print(\"Starting test: test_categorize_document\")\n",
    "    print(\"+*\"*20)\n",
    "\n",
    "    document_text = \"\"\"\n",
    "    Project Alpha\n",
    "\n",
    "    Scope and Objectives:Develop a customer management platform for small businesses with user-friendly interfaces.\n",
    "\n",
    "    Deliverables:\n",
    "\n",
    "        - Functional web application.\n",
    "\n",
    "        - Deployment documentation.\n",
    "\n",
    "    Milestones:\n",
    "\n",
    "        - Prototype by March 15, 2025.\n",
    "\n",
    "        - Final delivery by May 30, 2025.\n",
    "\n",
    "    Payment Terms:\n",
    "\n",
    "        --50% upfront.\n",
    "\n",
    "        - 50% on final delivery.\n",
    "\n",
    "    Responsibilities:\n",
    "\n",
    "        Client: Provide requirements and feedback.\n",
    "\n",
    "        Contractor: Deliver on time and as specified.\n",
    "    \"\"\"\n",
    "    context = get_context(system_instruction_prompt, document_text)\n",
    "    result = await get_response(context, [\"category\"])\n",
    "    assert result[\"category\"] == \"statement_of_work\"\n",
    "    print(f\"{color.BOLD} Category: {color.END} {result[\"category\"]}\")\n",
    "    print(\"+*\"*20)\n",
    "\n",
    "    document_text = \"\"\"\n",
    "    Technical Architecture Document: Drone System\n",
    "\n",
    "    System Overview:The drone system features a GPS-enabled quadcopter with a high-definition camera for video streaming. The onboard microcontroller handles flight control and navigation, while a wireless module connects to the ground station for mission planning and live monitoring.\n",
    "\n",
    "    Components and Integration:Advanced sensors, including LiDAR and ultrasonic, enable obstacle detection and collision avoidance. A cloud backend supports data storage and AI features like object recognition and autonomous flight, with scalability for additional modules.\n",
    "    \"\"\"\n",
    "    context = get_context(system_instruction_prompt, document_text)\n",
    "    result = await get_response(context, [\"category\"])\n",
    "    assert result[\"category\"] == \"other\"\n",
    "    print(f\"{color.BOLD} Category: {color.END} {result[\"category\"]}\")\n",
    "    print(\"+*\"*20)\n",
    "\n",
    "    print(\"All tests passed successfully! 🙌\")\n",
    "\n",
    "# Run the test\n",
    "await test_categorize_document()"
   ]
  }
 ],
 "metadata": {
  "kernelspec": {
   "display_name": "cookbook",
   "language": "python",
   "name": "cookbook"
  },
  "language_info": {
   "codemirror_mode": {
    "name": "ipython",
    "version": 3
   },
   "file_extension": ".py",
   "mimetype": "text/x-python",
   "name": "python",
   "nbconvert_exporter": "python",
   "pygments_lexer": "ipython3",
   "version": "3.13.0"
  }
 },
 "nbformat": 4,
 "nbformat_minor": 2
}
