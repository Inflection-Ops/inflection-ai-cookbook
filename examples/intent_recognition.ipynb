{
 "cells": [
  {
   "cell_type": "code",
   "execution_count": null,
   "id": "46631d81",
   "metadata": {},
   "outputs": [],
   "source": [
    "from utils import get_context, get_response"
   ]
  },
  {
   "cell_type": "markdown",
   "id": "32c0d82d",
   "metadata": {},
   "source": [
    "# **Intent Recognition using Chain-of-Thought Reasoning and Inflection AI API**\n",
    "\n",
    "This notebook implements **intent recognition** with **Chain-of-Thought (CoT) reasoning** to enhance service classification and decision-making. The goal is to optimize intent detection and structured output generation for downstream automation.\n",
    "\n",
    "## **Overview**\n",
    "\n",
    "- **Chain-of-Thought reasoning** improves intent classification accuracy.\n",
    "- Uses **structured prompting** to ensure consistent output.\n",
    "- Implements a multi-step approach:\n",
    "  - **Extracts intent** from user provided emails.\n",
    "  - **Generates reasoning traces** before classification.\n",
    "  - **Outputs results in structured format** for seamless automation.\n",
    "- Leverages the Inflection AI model **inflection_3_productivity model**, optimized for task-specific classification.\n",
    "\n",
    "This approach ensures **interpretable, structured, and automation-friendly intent classification**, improving routing efficiency."
   ]
  },
  {
   "cell_type": "code",
   "execution_count": null,
   "id": "1279aa21",
   "metadata": {},
   "outputs": [],
   "source": [
    "legacy_api = False # True if using the old API, False if using the new OpenAI Compatible API"
   ]
  },
  {
   "cell_type": "code",
   "execution_count": null,
   "id": "6759e181-1ecf-4c96-ae67-c3a95609e4c6",
   "metadata": {},
   "outputs": [],
   "source": [
    "system_instruction_prompt = \"\"\"\n",
    "You are an AI assistant designed to classify user messages by intent.\n",
    "\n",
    "# Your Purpose\n",
    "1. Identify the intent of the human's message without attempting to solve their request.\n",
    "2. Choose ONLY from the predefined valid intents listed below.\n",
    "3. DO NOT create new intents or modify existing ones.\n",
    "4. Always review all valid intents before making a selection.\n",
    "\n",
    "# Definitions\n",
    "- availability_request: The email requests availability for a meeting.\n",
    "Examples:\n",
    "- \"Do you have time tomorrow for an hour?\"\n",
    "- \"What time slots do you have available next week in Pacific?\"\n",
    "- \"Are you available for a meeting?\"\n",
    "- \"Can you meet at 10:00 am?\"\n",
    "- \"What time works for you?\"\n",
    "- \"When can we meet?\"\n",
    "- \"Can we schedule a meeting?\"\n",
    "- \"Are you free to meet?\"\n",
    "- \"Can we meet tomorrow?\n",
    "\n",
    "- bug_report: The email reports an issue or bug.\n",
    "Examples:\n",
    "- \"I found a bug in the system.\"\n",
    "- \"The system is not working as expected.\"\n",
    "- \"I encountered an issue.\"\n",
    "- \"There is a problem with the system.\"\n",
    "- \"I am facing an error.\"\n",
    "- \"The system is not functioning properly.\"\n",
    "\n",
    "- no_reply_needed_or_spam: The email does not require a reply or is classified as spam.\n",
    "Examples:\n",
    "- \"Declined invitation.\"\n",
    "- \"Accepted invitation.\"\n",
    "- \"Invitation sent.\"\n",
    "\n",
    "- reply_as_normal_with_pi: The email does not fit into any of the other predefined categories.\n",
    "\n",
    "# Valid Intents\n",
    "- availability_request\n",
    "- bug_report\n",
    "- no_reply_needed_or_spam\n",
    "- reply_as_normal_with_pi\n",
    "\n",
    "\n",
    "# Output Format - XML\n",
    "You will respond using XML tags for each extracted piece of information. You don't need to provide explanation or any other information, just return the extracted parts within the appropriate XML tags.\n",
    "\n",
    "# Format of the Output\n",
    "<parts>\n",
    "    <reasoning>The reasoning behind selecting this intent</reasoning>\n",
    "    <intent_recognized>intent_selected</intent_recognized>\n",
    "</parts>\n",
    "\"\"\""
   ]
  },
  {
   "cell_type": "markdown",
   "id": "a0242115",
   "metadata": {},
   "source": [
    "## Test Scenario: Intent Recognition of Short Emails"
   ]
  },
  {
   "cell_type": "code",
   "execution_count": null,
   "id": "ae0172ce",
   "metadata": {},
   "outputs": [],
   "source": [
    "class color:\n",
    "    BOLD = '\\033[1m'\n",
    "    END = '\\033[0m'"
   ]
  },
  {
   "cell_type": "code",
   "execution_count": null,
   "id": "78b0bef2",
   "metadata": {},
   "outputs": [],
   "source": [
    "async def test_classify_email_intent():\n",
    "    print(\"Starting test: test_classify_email_intent\")\n",
    "    \"\"\"\n",
    "    Scenario: The user provides email bodies that contain different intents.\n",
    "    Expected Outcome: The system should be able to recognize the intent of the email body. It also provides reasoning for the intent selected.\n",
    "    \"\"\"\n",
    "    print(\"+*\"*20)\n",
    "    email_body = \"Good day! I stumbled upon a charming little bug in one of your functions, please fix.\"\n",
    "\n",
    "    context = get_context(system_instruction_prompt, email_body, user_input_label=\"Email body\", legacy_api=legacy_api)\n",
    "    result = await get_response(context, [\"reasoning\", \"intent_recognized\"], legacy_api=legacy_api)\n",
    "    assert result[\"intent_recognized\"] == \"bug_report\"\n",
    "    print(f\"{color.BOLD} Intent recognized {color.END} {result[\"intent_recognized\"]}\")\n",
    "    print(f\"{color.BOLD} Reasoning: {color.END} {result[\"reasoning\"]}\")\n",
    "    print(\"+*\"*20)\n",
    "\n",
    "    email_body = \"Do you have time to meet today to strategize our next masterstroke, or shall we let the universe think it's gotten the upper hand?\"\n",
    "    context = get_context(system_instruction_prompt, email_body, user_input_label=\"Email body\", legacy_api=legacy_api)\n",
    "    result = await get_response(context, [\"reasoning\", \"intent_recognized\"], legacy_api=legacy_api)\n",
    "    assert result[\"intent_recognized\"] == \"availability_request\"\n",
    "    print(f\"{color.BOLD} Intent recognized: {color.END} {result[\"intent_recognized\"]}\")\n",
    "    print(f\"{color.BOLD} Reasoning: {color.END} {result[\"reasoning\"]}\")\n",
    "    print(\"+*\"*20)\n",
    "\n",
    "    email_body = \"The invitation to the meeting was regrettably declined.\"\n",
    "    context = get_context(system_instruction_prompt, email_body, user_input_label=\"Email body\", legacy_api=legacy_api)\n",
    "    result = await get_response(context, [\"reasoning\", \"intent_recognized\"], legacy_api=legacy_api)\n",
    "    assert result[\"intent_recognized\"] == \"no_reply_needed_or_spam\"\n",
    "    print(f\"{color.BOLD} Intent recognized: {color.END} {result[\"intent_recognized\"]}\")\n",
    "    print(f\"{color.BOLD} Reasoning: {color.END} {result[\"reasoning\"]}\")\n",
    "    print(\"+*\"*20)\n",
    "\n",
    "    email_body = \"What's the capital of France? Hint: It's not 'F'.\"\n",
    "    context = get_context(system_instruction_prompt, email_body, user_input_label=\"Email body\", legacy_api=legacy_api)\n",
    "    result = await get_response(context, [\"reasoning\", \"intent_recognized\"], legacy_api=legacy_api)\n",
    "    assert result[\"intent_recognized\"] == \"reply_as_normal_with_pi\"\n",
    "    print(f\"{color.BOLD} Intent recognized: {color.END} {result[\"intent_recognized\"]}\")\n",
    "    print(f\"{color.BOLD} Reasoning: {color.END} {result[\"reasoning\"]}\")\n",
    "    print(\"+*\"*20)\n",
    "\n",
    "    print(\"All tests passed successfully! 🙌\")\n",
    "\n",
    "# Run the test\n",
    "await test_classify_email_intent()"
   ]
  }
 ],
 "metadata": {
  "kernelspec": {
   "display_name": ".venv",
   "language": "python",
   "name": "python3"
  },
  "language_info": {
   "codemirror_mode": {
    "name": "ipython",
    "version": 3
   },
   "file_extension": ".py",
   "mimetype": "text/x-python",
   "name": "python",
   "nbconvert_exporter": "python",
   "pygments_lexer": "ipython3",
   "version": "3.12.8"
  }
 },
 "nbformat": 4,
 "nbformat_minor": 5
}
