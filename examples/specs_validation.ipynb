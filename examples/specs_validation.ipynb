{
 "cells": [
  {
   "cell_type": "code",
   "execution_count": 12,
   "metadata": {},
   "outputs": [],
   "source": [
    "import re\n",
    "import logging\n",
    "import hashlib\n",
    "from utils import get_context, get_response\n",
    "from inference import fetch as fetch_inflection"
   ]
  },
  {
   "cell_type": "markdown",
   "metadata": {},
   "source": [
    "# **Automated Specification Validation using Inflection AI**\n",
    "\n",
    "This notebook demonstrates how to **validate specifications** using AI-driven approaches. The goal is to ensure **compliance and correctness** in structured documents by leveraging **automated validation** techniques.\n",
    "\n",
    "## **Overview**\n",
    "\n",
    "- Implements **AI-based validation** for structured specifications.\n",
    "- Utilizes a **prompting-based model** to analyze document content.\n",
    "- The model performs the following tasks:\n",
    "  - Extracts **key compliance criteria** from specification documents.\n",
    "  - Identifies **potential inconsistencies and errors**.\n",
    "  - Outputs structured validation reports for **further review**.\n",
    "- Uses a **state-of-the-art Inflection AI LLM** optimized for analysis and validation."
   ]
  },
  {
   "cell_type": "code",
   "execution_count": 8,
   "metadata": {},
   "outputs": [],
   "source": [
    "system_instruction_prompt_example_1 = \"\"\"\n",
    "You are an expert Python test writer with a deep understanding of software testing principles, including unit testing, edge case analysis, and test-driven development (TDD). Your goal is to write high-quality, robust unit tests for the provided Python code, ensuring correctness, reliability, and full specification coverage.\n",
    "\n",
    "# Your Responsibilities\n",
    "1. You will receive a Python code implementation from the user.\n",
    "2. You will also receive a  set of specifications that describe the expected behavior of the code.\n",
    "3. Based on these inputs, you must generate comprehensive unit tests to validate the implementation.\n",
    "\n",
    "# Test Writing Guidelines:\n",
    "- Coverage: Ensure that all key functionalities described in the specifications are tested.\n",
    "- Edge Cases: Identify and include edge cases, boundary values, and potential failure scenarios.\n",
    "- Assertions: Use clear and meaningful assertions to verify expected behavior.\n",
    "- Mocking & Fixtures: If applicable, use mocking (e.g., `unittest.mock`) and test fixtures to isolate test dependencies.\n",
    "- Best Practices: Follow Python testing best practices using frameworks like `unittest` or `pytest`.\n",
    "- Readability & Maintainability: Write clean, well-structured tests with meaningful test names and comments.\n",
    "\n",
    "# Output Format\n",
    "- Provide well-documented Python test code.\n",
    "- Use descriptive test function names that reflect the behavior being tested.\n",
    "- Follow a structured format for readability and maintainability.\n",
    "\n",
    "Your goal is to ensure that the provided code is thoroughly tested, meets all requirements, and is resilient to edge cases.\n",
    "\"\"\"\n",
    "\n",
    "\n",
    "system_instruction_prompt_example_2 = \"\"\"\n",
    "You are a compliance expert with a deep understanding of regulatory requirements and best practices in the field. Your goal is to analyze the provided code and provided specification to ensure that they meet all necessary compliance standards.\n",
    "\n",
    "# Your Responsibilities\n",
    "1. You will receive a Python code implementation from the user.\n",
    "2. You will also receive an industry compliance specification that describes the expected behavior of the code.\n",
    "3. Based on these inputs, you must analyze the code and specification to identify any compliance issues.\n",
    "\n",
    "# Compliance Analysis Guidelines:\n",
    "- Identify if the code meets the specifications: yes or no\n",
    "- Provide an explanation of the compliance status: explain why the code is compliant or not\n",
    "- Provide recommendations for improvement: suggest changes to ensure compliance\n",
    "\n",
    "# Output Format - XML\n",
    "You will respond using XML tags. You don't need to provide explanation or any other information, just return the extracted parts within the appropriate XML tags.\n",
    "\n",
    "# Format of the Output:\n",
    "<parts>\n",
    "    <compliant>yes or no</compliant>\n",
    "    <explanation>explanation of the compliance status</explanation>\n",
    "    <recommendations>recommendations for improvement</recommendations>\n",
    "</parts>\n",
    "\"\"\"\n"
   ]
  },
  {
   "cell_type": "markdown",
   "metadata": {},
   "source": [
    "## Test Scenario: Test generation based on specifications"
   ]
  },
  {
   "cell_type": "code",
   "execution_count": 9,
   "metadata": {},
   "outputs": [],
   "source": [
    "class color:\n",
    "    BOLD = '\\033[1m'\n",
    "    END = '\\033[0m'"
   ]
  },
  {
   "cell_type": "code",
   "execution_count": 10,
   "metadata": {},
   "outputs": [
    {
     "name": "stdout",
     "output_type": "stream",
     "text": [
      "Starting test: test_specs_validation\n",
      "+*+*+*+*+*+*+*+*+*+*+*+*+*+*+*+*+*+*+*+*\n"
     ]
    },
    {
     "name": "stderr",
     "output_type": "stream",
     "text": [
      "INFO:inference:Inflection AI API request took 11456.28 ms\n"
     ]
    },
    {
     "name": "stdout",
     "output_type": "stream",
     "text": [
      "\u001b[1m Response: \u001b[0m Here are comprehensive unit tests for the provided function `divide_numbers` using pytest and considering all provided specifications:\n",
      "\n",
      "```python\n",
      "import pytest\n",
      "\n",
      "@pytest.mark.parametrize(\"numerator, denominator, expected\", [\n",
      "    (4, 2, 2),  # Basic division\n",
      "    (10, 3, 3.3333333333333335),  # Float division\n",
      "    (5, 0, 'Error: Division by zero is undefined.'),  # Zero division\n",
      "    (10, -2, -5),  # Negative number division\n",
      "    (10e500, 1e-500, 'Error: Number too large to compute.'),  # Overflow error\n",
      "    (1, 0, 'Error: Division by zero is undefined.')  # Zero division with 1 numerator\n",
      "])\n",
      "def test_divide_numbers(numerator, denominator, expected):\n",
      "    result = divide_numbers(numerator, denominator)\n",
      "    assert result == expected\n",
      "```\n",
      "\n",
      "The `@pytest.mark.parametrize` decorator allows us to efficiently test various combinations of input and expected output values, as specified by the user. The tests cover basic division, float division, edge cases such as division by zero and negative number division, as well as OverflowError and ZeroDivisionError exceptions handling.\n",
      "\n",
      "These tests provide good coverage and ensure that the provided function behaves as expected in different scenarios.\n",
      "+*+*+*+*+*+*+*+*+*+*+*+*+*+*+*+*+*+*+*+*\n",
      "Test completed successfully! 🙌\n"
     ]
    }
   ],
   "source": [
    "async def test_specs_validation():\n",
    "    print(\"Starting test: test_specs_validation\")\n",
    "    print(\"+*\"*20)\n",
    "    user_function = \"\"\"\n",
    "    def divide_numbers(numerator, denominator):\n",
    "        try:\n",
    "            result = numerator / denominator\n",
    "            return result\n",
    "        except ZeroDivisionError:\n",
    "            return 'Error: Division by zero is undefined.'\n",
    "        except OverflowError:\n",
    "            return 'Error: Number too large to compute.'\n",
    "    \"\"\"\n",
    "\n",
    "    user_specifications = \"\"\"\n",
    "    - Write unit tests using pytest.\n",
    "    - Parameterize test cases for efficiency.\n",
    "    - Ensure all edge cases are tested.\n",
    "    - Validate exception handling for invalid inputs.\n",
    "    \"\"\"\n",
    "\n",
    "    query = f\"User function: {user_function}\\nUser specifications: {user_specifications}\"\n",
    "    context = get_context(system_instruction_prompt_example_1, query)\n",
    "    response = await fetch_inflection(context, model=\"inflection_3_productivity\")\n",
    "\n",
    "    print(f\"{color.BOLD} Response: {color.END} {response}\")\n",
    "    print(\"+*\"*20)\n",
    "\n",
    "    print(\"Test completed successfully! 🙌\")\n",
    "\n",
    "# Run the test\n",
    "await test_specs_validation()"
   ]
  },
  {
   "cell_type": "markdown",
   "metadata": {},
   "source": [
    "## Test Scenario: Software compliance check of the test"
   ]
  },
  {
   "cell_type": "code",
   "execution_count": 14,
   "metadata": {},
   "outputs": [
    {
     "name": "stdout",
     "output_type": "stream",
     "text": [
      "1. Data Encryption: All customer data must be encrypted both in transit and at rest.\n",
      "2. Secure Authentication: Implement multi-factor authentication (MFA) for all banking applications.\n",
      "3. Transaction Logging: Maintain immutable logs of all transactions for regulatory auditing.\n",
      "4. Access Control: Enforce role-based access control (RBAC) to restrict unauthorized access.\n",
      "5. Error Handling: Ensure all financial applications properly log and handle errors without exposing sensitive data.\n"
     ]
    }
   ],
   "source": [
    "def extract_software_compliance_rules(file_path):\n",
    "    \"\"\"Extracts Software Compliance Rules from a given compliance document file.\"\"\"\n",
    "    with open(file_path, 'r', encoding='utf-8') as file:\n",
    "        text = file.read()\n",
    "    \n",
    "    # Regular expression to match the rules\n",
    "    pattern = re.compile(r'\\d+\\.\\s([A-Za-z\\s\\-]+):\\s(.*?)$', re.MULTILINE)\n",
    "    \n",
    "    # Extract matches\n",
    "    rules = pattern.findall(text)\n",
    "    \n",
    "    # Format the results into a list of strings\n",
    "    formatted_rules = [f\"{num}. {title}: {desc}\" for num, (title, desc) in enumerate(rules, start=1)]\n",
    "    \n",
    "    return formatted_rules\n",
    "\n",
    "# Example usage:\n",
    "file_path = \"compliance_doc.txt\"\n",
    "rules = extract_software_compliance_rules(file_path)\n",
    "for rule in rules:\n",
    "    print(rule)"
   ]
  },
  {
   "cell_type": "code",
   "execution_count": 15,
   "metadata": {},
   "outputs": [
    {
     "name": "stdout",
     "output_type": "stream",
     "text": [
      "Transaction logged securely.\n"
     ]
    }
   ],
   "source": [
    "def secure_transaction_log(transaction_details):\n",
    "    try:\n",
    "        # Encrypt transaction details using SHA-256\n",
    "        transaction_hash = hashlib.sha256(transaction_details.encode()).hexdigest()\n",
    "        \n",
    "        # Store securely in log\n",
    "        log_path = \"secure_transaction.log\"\n",
    "        with open(log_path, \"a\") as log_file:\n",
    "            log_file.write(f\"{transaction_hash}\\n\")\n",
    "        \n",
    "        return \"Transaction logged securely.\"\n",
    "    except Exception as e:\n",
    "        logging.error(\"Error in transaction logging: %s\", str(e))\n",
    "        return \"Transaction logging failed.\"\n",
    "\n",
    "# Example usage\n",
    "print(secure_transaction_log(\"User A transferred $500 to User B\"))"
   ]
  },
  {
   "cell_type": "code",
   "execution_count": 16,
   "metadata": {},
   "outputs": [],
   "source": [
    "class color:\n",
    "    BOLD = '\\033[1m'\n",
    "    END = '\\033[0m'"
   ]
  },
  {
   "cell_type": "code",
   "execution_count": 18,
   "metadata": {},
   "outputs": [
    {
     "name": "stderr",
     "output_type": "stream",
     "text": [
      "INFO:inference:Inflection AI API request took 3776.33 ms\n"
     ]
    },
    {
     "name": "stdout",
     "output_type": "stream",
     "text": [
      "\u001b[1m Compliance Rule: \u001b[0m 1. Data Encryption: All customer data must be encrypted both in transit and at rest. \n",
      "\u001b[1m Is this code compliant?: \u001b[0m yes\n",
      "\u001b[1m Explanation: \u001b[0m The provided code implements encryption for both in transit and at rest data.\n",
      "\u001b[1m Recommendations: \u001b[0m No recommendations for improvement, as the code meets the compliance requirements.\n",
      "+*+*+*+*+*+*+*+*+*+*+*+*+*+*+*+*+*+*+*+*\n"
     ]
    },
    {
     "name": "stderr",
     "output_type": "stream",
     "text": [
      "INFO:inference:Inflection AI API request took 11668.43 ms\n"
     ]
    },
    {
     "name": "stdout",
     "output_type": "stream",
     "text": [
      "\u001b[1m Compliance Rule: \u001b[0m 2. Secure Authentication: Implement multi-factor authentication (MFA) for all banking applications. \n",
      "\u001b[1m Is this code compliant?: \u001b[0m no\n",
      "\u001b[1m Explanation: \u001b[0m The provided `secure_transaction_log` function does not include any implementation of multi-factor authentication (MFA), which is required by the industry compliance specification.\n",
      "\u001b[1m Recommendations: \u001b[0m To achieve compliance, integrate a secure multi-factor authentication mechanism into the existing `secure_transaction_log` function. This can include a combination of factors such as passwords, biometrics, security tokens, or behavioral biometrics to ensure a more secure login process for banking applications.\n",
      "+*+*+*+*+*+*+*+*+*+*+*+*+*+*+*+*+*+*+*+*\n"
     ]
    },
    {
     "name": "stderr",
     "output_type": "stream",
     "text": [
      "INFO:inference:Inflection AI API request took 5335.30 ms\n"
     ]
    },
    {
     "name": "stdout",
     "output_type": "stream",
     "text": [
      "\u001b[1m Compliance Rule: \u001b[0m 3. Transaction Logging: Maintain immutable logs of all transactions for regulatory auditing. \n",
      "\u001b[1m Is this code compliant?: \u001b[0m yes\n",
      "\u001b[1m Explanation: \u001b[0m The secure_transaction_log function stores transactions in an immutable ledger and generates an encrypted log file for each transaction, which meets the requirements of maintaining immutable logs for regulatory auditing.\n",
      "\u001b[1m Recommendations: \u001b[0m No changes are required to ensure compliance.\n",
      "+*+*+*+*+*+*+*+*+*+*+*+*+*+*+*+*+*+*+*+*\n"
     ]
    },
    {
     "name": "stderr",
     "output_type": "stream",
     "text": [
      "INFO:inference:Inflection AI API request took 12272.37 ms\n"
     ]
    },
    {
     "name": "stdout",
     "output_type": "stream",
     "text": [
      "\u001b[1m Compliance Rule: \u001b[0m 4. Access Control: Enforce role-based access control (RBAC) to restrict unauthorized access. \n",
      "\u001b[1m Is this code compliant?: \u001b[0m no\n",
      "\u001b[1m Explanation: \u001b[0m The provided function \"secure_transaction_log\" does not enforce role-based access control (RBAC) as required by the industry compliance specification.\n",
      "\u001b[1m Recommendations: \u001b[0m Include role-based access control functionality to restrict unauthorized access in the function.\n",
      "+*+*+*+*+*+*+*+*+*+*+*+*+*+*+*+*+*+*+*+*\n"
     ]
    },
    {
     "name": "stderr",
     "output_type": "stream",
     "text": [
      "INFO:inference:Inflection AI API request took 4411.37 ms\n"
     ]
    },
    {
     "name": "stdout",
     "output_type": "stream",
     "text": [
      "\u001b[1m Compliance Rule: \u001b[0m 5. Error Handling: Ensure all financial applications properly log and handle errors without exposing sensitive data. \n",
      "\u001b[1m Is this code compliant?: \u001b[0m yes\n",
      "\u001b[1m Explanation: \u001b[0m The provided Python function includes an explicit try-except block to handle potential errors during the execution of the code. It also logs exceptions without exposing any sensitive data, which meets the requirement for secure error handling.\n",
      "\u001b[1m Recommendations: \u001b[0m No specific recommendations for improvement are required as the code adheres to the error handling guidelines.\n",
      "+*+*+*+*+*+*+*+*+*+*+*+*+*+*+*+*+*+*+*+*\n"
     ]
    }
   ],
   "source": [
    "for rule in rules:\n",
    "    query = f\"User function: {str(secure_transaction_log)}\\nIndustry compliance specification: {rule}\"\n",
    "    context = get_context(system_instruction_prompt_example_2, query)\n",
    "    response = await get_response(context, [\"compliant\", \"explanation\", \"recommendations\"])\n",
    "    \n",
    "    print(f\"{color.BOLD} Compliance Rule: {color.END} {rule} \")\n",
    "    print(f\"{color.BOLD} Is this code compliant?: {color.END} {response[\"compliant\"]}\")\n",
    "    print(f\"{color.BOLD} Explanation: {color.END} {response[\"explanation\"]}\")\n",
    "    print(f\"{color.BOLD} Recommendations: {color.END} {response[\"recommendations\"]}\")\n",
    "    print(\"+*\"*20)"
   ]
  }
 ],
 "metadata": {
  "kernelspec": {
   "display_name": "cookbook",
   "language": "python",
   "name": "cookbook"
  },
  "language_info": {
   "codemirror_mode": {
    "name": "ipython",
    "version": 3
   },
   "file_extension": ".py",
   "mimetype": "text/x-python",
   "name": "python",
   "nbconvert_exporter": "python",
   "pygments_lexer": "ipython3",
   "version": "3.13.0"
  }
 },
 "nbformat": 4,
 "nbformat_minor": 2
}
