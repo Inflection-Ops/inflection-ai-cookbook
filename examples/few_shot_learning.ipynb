{
 "cells": [
  {
   "cell_type": "code",
   "execution_count": null,
   "metadata": {},
   "outputs": [],
   "source": [
    "from utils import get_response"
   ]
  },
  {
   "cell_type": "markdown",
   "metadata": {},
   "source": [
    "# **Few-Shot Learning for Task-Specific Adaptation**\n",
    "\n",
    "This notebook demonstrates the implementation of **Few-Shot Learning** for **task-specific adaptation**, leveraging minimal labeled examples to guide the model towards accurate predictions. The approach enables **efficient generalization** across different tasks while reducing the dependency on extensive labeled data.\n",
    "\n",
    "## **Overview**\n",
    "\n",
    "- Utilizes **Few-Shot Learning** to optimize model predictions with limited labeled examples.\n",
    "- Implements structured **prompt engineering** for guiding model behavior.\n",
    "- The model performs the following tasks:\n",
    "  - Processes **input queries** using a set of labeled examples for context.\n",
    "  - Adapts to specific **task requirements** through prompt-based fine-tuning.\n",
    "  - Generates structured **output responses** based on minimal training data.\n",
    "  \n",
    "This methodology enhances **classification accuracy**, **robustness**, and **interpretability** in real-world applications."
   ]
  },
  {
   "cell_type": "code",
   "execution_count": null,
   "metadata": {},
   "outputs": [],
   "source": [
    "legacy_api = False # True if using the old API, False if using the new OpenAI Compatible API"
   ]
  },
  {
   "cell_type": "code",
   "execution_count": null,
   "metadata": {},
   "outputs": [],
   "source": [
    "system_instruction_prompt = \"\"\"\n",
    "You are an AI assistant designed to extract and format meeting time slots from user responses.\n",
    "\n",
    "# Your Task\n",
    "1. Given a user's response, identify the provided meeting time slot.\n",
    "2. If the response includes both a start and end time, extract them directly.\n",
    "3. If only a start time is given, calculate the end time based on the provided duration.\n",
    "\n",
    "# Output Format - XML\n",
    "You will respond in a valid XML format with the <parts>, <start_time>, and  <end_time> tags following the output format. You don't need to provide explanation or any other information, just return the extracted time slot.\n",
    "\n",
    "# Format of the Output\n",
    "<parts>\n",
    "  <start_time>start_time_extracted</start_time>\n",
    "  <end_time>end_time_extracted</end_time>\n",
    "</parts>\n",
    "\"\"\"\n",
    "\n",
    "example_input_1 = \"2:00-4:00pm is good for me\"\n",
    "example_output_1 = \"\"\"\n",
    "    <parts>\n",
    "      <start_time>14:00</start_time>\n",
    "      <end_time>16:00</end_time>\n",
    "    </parts>\n",
    "\"\"\"\n",
    "\n",
    "example_input_2 = \"Let's schedule the meeting for 10:00am. Duration: 30 minutes\"\n",
    "example_output_2 = \"\"\"\n",
    "    <parts>\n",
    "      <start_time>10:00</start_time>\n",
    "      <end_time>10:30</end_time>\n",
    "    </parts>\n",
    "\"\"\""
   ]
  },
  {
   "cell_type": "code",
   "execution_count": null,
   "metadata": {},
   "outputs": [],
   "source": [
    "def get_extract_time_context(message: str, legacy_api: bool=True) -> list:\n",
    "    if legacy_api:\n",
    "        context = [\n",
    "            {\"type\": \"Instruction\", \"text\": system_instruction_prompt},\n",
    "            {\"type\": \"Human\", \"text\": example_input_1},\n",
    "            {\"type\": \"AI\", \"text\": example_output_1},\n",
    "            {\"type\": \"Human\", \"text\": example_input_2},\n",
    "            {\"type\": \"AI\", \"text\": example_output_2},\n",
    "            {\n",
    "                \"type\": \"Human\",\n",
    "                \"text\": f\"Email body: {message}\",\n",
    "            },\n",
    "        ]\n",
    "    else:\n",
    "        context = [\n",
    "            {\"role\": \"system\", \"content\": system_instruction_prompt},\n",
    "            {\"role\": \"user\", \"content\": example_input_1},\n",
    "            {\"role\": \"assistant\", \"content\": example_output_1},\n",
    "            {\"role\": \"user\", \"content\": example_input_2},\n",
    "            {\"role\": \"assistant\", \"content\": example_output_2},\n",
    "            {\n",
    "                \"role\": \"user\",\n",
    "                \"content\": f\"Email body: {message}\",\n",
    "            },\n",
    "        ]\n",
    "    return context"
   ]
  },
  {
   "cell_type": "markdown",
   "metadata": {},
   "source": [
    "## Test Scenario: Extract time from messages"
   ]
  },
  {
   "cell_type": "code",
   "execution_count": null,
   "metadata": {},
   "outputs": [],
   "source": [
    "class color:\n",
    "    BOLD = '\\033[1m'\n",
    "    END = '\\033[0m'"
   ]
  },
  {
   "cell_type": "code",
   "execution_count": null,
   "metadata": {},
   "outputs": [],
   "source": [
    "async def test_extract_time():\n",
    "    print(\"Starting test: test_extract_time\")\n",
    "    print(\"+*\"*20)\n",
    "    message = \"Let's schedule the meeting for 5pm for 2 hours\"\n",
    "    context = get_extract_time_context(message, legacy_api=legacy_api)\n",
    "    result = await get_response(context, [\"start_time\", \"end_time\"], legacy_api=legacy_api)\n",
    "\n",
    "    assert result[\"start_time\"] == \"17:00\"\n",
    "    assert result[\"end_time\"] == \"19:00\"\n",
    "    print(f\"{color.BOLD} Start time extracted: {color.END} {result[\"start_time\"]}\")\n",
    "    print(f\"{color.BOLD} End time extracted: {color.END} {result[\"end_time\"]}\")\n",
    "    print(\"+*\"*20)\n",
    "\n",
    "    print(\"All tests passed successfully! 🙌\")\n",
    "\n",
    "# Run the test\n",
    "await test_extract_time()"
   ]
  }
 ],
 "metadata": {
  "kernelspec": {
   "display_name": ".venv",
   "language": "python",
   "name": "python3"
  },
  "language_info": {
   "codemirror_mode": {
    "name": "ipython",
    "version": 3
   },
   "file_extension": ".py",
   "mimetype": "text/x-python",
   "name": "python",
   "nbconvert_exporter": "python",
   "pygments_lexer": "ipython3",
   "version": "3.12.8"
  }
 },
 "nbformat": 4,
 "nbformat_minor": 2
}
